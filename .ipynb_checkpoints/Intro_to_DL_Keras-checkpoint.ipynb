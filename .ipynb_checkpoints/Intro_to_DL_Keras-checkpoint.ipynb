{
 "cells": [
  {
   "cell_type": "code",
   "execution_count": 1,
   "metadata": {},
   "outputs": [
    {
     "name": "stderr",
     "output_type": "stream",
     "text": [
      "Using TensorFlow backend.\n"
     ]
    }
   ],
   "source": [
    "%matplotlib inline\n",
    "import pandas as pd\n",
    "import numpy as np\n",
    "import matplotlib.pyplot as plt\n",
    "\n",
    "from keras.datasets import mnist\n",
    "from keras.layers import Dense, Input\n",
    "from keras.models import Model\n",
    "from keras.utils import np_utils\n",
    "from keras.callbacks import TensorBoard\n",
    "from keras import regularizers\n",
    "\n",
    "from sklearn.metrics import confusion_matrix"
   ]
  },
  {
   "cell_type": "markdown",
   "metadata": {},
   "source": [
    "# Let's train a hand-written digit classifier\n",
    "\n",
    "We will use the famous handwritten digit dataset MNIST.  This is a very popular data set for training small networks, since the data typically fits in local memory, and you can do convolutional networks with it.  This time, though, we will not be doing convolutional networks.  We will just be training a \"multi-layer perceptron\" or a \"fully-connected network\", keeping this as simple as possible to highlight how easy it is to use Keras.  We'll take each step in turn:\n",
    "- Data\n",
    "- Loss\n",
    "- Optimizer\n",
    "- Model\n",
    "- Callbacks\n",
    "- (Regularization)\n",
    "\n",
    "\n",
    "# Data\n",
    "MNIST is so famous it comes packaged with keras.  Let's take a look"
   ]
  },
  {
   "cell_type": "code",
   "execution_count": 2,
   "metadata": {},
   "outputs": [
    {
     "data": {
      "text/plain": [
       "(60000, 28, 28)"
      ]
     },
     "execution_count": 2,
     "metadata": {},
     "output_type": "execute_result"
    }
   ],
   "source": [
    "(train_feats, train_labels), (valid_feats, valid_labels) = mnist.load_data()\n",
    "train_feats.shape"
   ]
  },
  {
   "cell_type": "markdown",
   "metadata": {},
   "source": [
    "Ok, so in our training set we have 60k handwritten digits.  Each digit is an image of size 28 x 28.  Let's look at one of the images just to see what we're dealing with"
   ]
  },
  {
   "cell_type": "code",
   "execution_count": 3,
   "metadata": {},
   "outputs": [
    {
     "data": {
      "text/plain": [
       "array([[ 42,  54, 213, 241,  95,   0,   0,   0,   0,   0],\n",
       "       [  0,   0,  93, 254, 115,   0,   0,   0,   0,   0],\n",
       "       [  0,   0,  93, 255, 115,   0,   0,   0,   0,   0],\n",
       "       [  0,   0, 176, 254, 115,   0,   0,   0,   0,   0],\n",
       "       [  0,  28, 215, 254, 115,   0,   0,   0,   0,   0],\n",
       "       [134, 240, 253, 228,  40,   0,   0,   0,   0,   0],\n",
       "       [206, 254, 254,  68,   0,   0,   0,   0,   0,   0],\n",
       "       [ 29, 211, 253, 147,  21,   0,   0,   0,   0,   0],\n",
       "       [  0,  21, 180, 245, 228, 165, 116, 116, 116, 116],\n",
       "       [  0,   0,   0,  44, 119, 202, 253, 254, 253, 253]], dtype=uint8)"
      ]
     },
     "execution_count": 3,
     "metadata": {},
     "output_type": "execute_result"
    }
   ],
   "source": [
    "train_feats[558][10:20, 10:20] # this is just a slice of the middle"
   ]
  },
  {
   "cell_type": "code",
   "execution_count": 4,
   "metadata": {},
   "outputs": [
    {
     "data": {
      "image/png": "[encoded data removed]",
      "text/plain": [
       "<Figure size 576x576 with 9 Axes>"
      ]
     },
     "metadata": {},
     "output_type": "display_data"
    }
   ],
   "source": [
    "# this is what we get if we plot the data with the pixel densities\n",
    "fig = plt.figure(figsize=(8,8))\n",
    "for i in range(9):\n",
    "    plt.subplot(3,3,i+1)\n",
    "    plt.imshow(train_feats[i], cmap='Greys', interpolation='none')\n",
    "    plt.title(\"Class {}\".format(train_labels[i]))\n",
    "plt.tight_layout()"
   ]
  },
  {
   "cell_type": "markdown",
   "metadata": {},
   "source": [
    "Handwritten digits are inherently 2-D, in that they have regular two-dimensional structure.  To better deal with that structure, we'll use Convolutional networks later, but for now what we'll do is just treat every pixel as if it is its own feature, and as the question, can a neural network learn the complicated relationships that exist between individual pixel locations?  \n",
    "\n",
    "So we'll flatten all the features so each number is a one-dimensional vector of length 784"
   ]
  },
  {
   "cell_type": "code",
   "execution_count": 5,
   "metadata": {
    "collapsed": true
   },
   "outputs": [],
   "source": [
    "train_feats = train_feats.reshape(60000, 784)\n",
    "valid_feats = valid_feats.reshape(10000, 784)"
   ]
  },
  {
   "cell_type": "markdown",
   "metadata": {},
   "source": [
    "Now let's look at the labels"
   ]
  },
  {
   "cell_type": "code",
   "execution_count": 6,
   "metadata": {},
   "outputs": [
    {
     "data": {
      "text/plain": [
       "array([5, 0, 4, 1, 9, 2, 1, 3, 1, 4], dtype=uint8)"
      ]
     },
     "execution_count": 6,
     "metadata": {},
     "output_type": "execute_result"
    }
   ],
   "source": [
    "train_labels[:10]"
   ]
  },
  {
   "cell_type": "markdown",
   "metadata": {},
   "source": [
    "The labels are integers corresponding to the actual digits.  We will need to one-hot-encode them.  (ie make them categorical, or dummy variables)"
   ]
  },
  {
   "cell_type": "code",
   "execution_count": 7,
   "metadata": {
    "collapsed": true
   },
   "outputs": [],
   "source": [
    "# now let's make the labels categorical\n",
    "train_labels = pd.get_dummies(train_labels)\n",
    "valid_labels = pd.get_dummies(valid_labels)"
   ]
  },
  {
   "cell_type": "code",
   "execution_count": 8,
   "metadata": {},
   "outputs": [
    {
     "data": {
      "text/html": [
       "<div>\n",
       "<style>\n",
       "    .dataframe thead tr:only-child th {\n",
       "        text-align: right;\n",
       "    }\n",
       "\n",
       "    .dataframe thead th {\n",
       "        text-align: left;\n",
       "    }\n",
       "\n",
       "    .dataframe tbody tr th {\n",
       "        vertical-align: top;\n",
       "    }\n",
       "</style>\n",
       "<table border=\"1\" class=\"dataframe\">\n",
       "  <thead>\n",
       "    <tr style=\"text-align: right;\">\n",
       "      <th></th>\n",
       "      <th>0</th>\n",
       "      <th>1</th>\n",
       "      <th>2</th>\n",
       "      <th>3</th>\n",
       "      <th>4</th>\n",
       "      <th>5</th>\n",
       "      <th>6</th>\n",
       "      <th>7</th>\n",
       "      <th>8</th>\n",
       "      <th>9</th>\n",
       "    </tr>\n",
       "  </thead>\n",
       "  <tbody>\n",
       "    <tr>\n",
       "      <th>0</th>\n",
       "      <td>0</td>\n",
       "      <td>0</td>\n",
       "      <td>0</td>\n",
       "      <td>0</td>\n",
       "      <td>0</td>\n",
       "      <td>1</td>\n",
       "      <td>0</td>\n",
       "      <td>0</td>\n",
       "      <td>0</td>\n",
       "      <td>0</td>\n",
       "    </tr>\n",
       "    <tr>\n",
       "      <th>1</th>\n",
       "      <td>1</td>\n",
       "      <td>0</td>\n",
       "      <td>0</td>\n",
       "      <td>0</td>\n",
       "      <td>0</td>\n",
       "      <td>0</td>\n",
       "      <td>0</td>\n",
       "      <td>0</td>\n",
       "      <td>0</td>\n",
       "      <td>0</td>\n",
       "    </tr>\n",
       "    <tr>\n",
       "      <th>2</th>\n",
       "      <td>0</td>\n",
       "      <td>0</td>\n",
       "      <td>0</td>\n",
       "      <td>0</td>\n",
       "      <td>1</td>\n",
       "      <td>0</td>\n",
       "      <td>0</td>\n",
       "      <td>0</td>\n",
       "      <td>0</td>\n",
       "      <td>0</td>\n",
       "    </tr>\n",
       "    <tr>\n",
       "      <th>3</th>\n",
       "      <td>0</td>\n",
       "      <td>1</td>\n",
       "      <td>0</td>\n",
       "      <td>0</td>\n",
       "      <td>0</td>\n",
       "      <td>0</td>\n",
       "      <td>0</td>\n",
       "      <td>0</td>\n",
       "      <td>0</td>\n",
       "      <td>0</td>\n",
       "    </tr>\n",
       "    <tr>\n",
       "      <th>4</th>\n",
       "      <td>0</td>\n",
       "      <td>0</td>\n",
       "      <td>0</td>\n",
       "      <td>0</td>\n",
       "      <td>0</td>\n",
       "      <td>0</td>\n",
       "      <td>0</td>\n",
       "      <td>0</td>\n",
       "      <td>0</td>\n",
       "      <td>1</td>\n",
       "    </tr>\n",
       "  </tbody>\n",
       "</table>\n",
       "</div>"
      ],
      "text/plain": [
       "   0  1  2  3  4  5  6  7  8  9\n",
       "0  0  0  0  0  0  1  0  0  0  0\n",
       "1  1  0  0  0  0  0  0  0  0  0\n",
       "2  0  0  0  0  1  0  0  0  0  0\n",
       "3  0  1  0  0  0  0  0  0  0  0\n",
       "4  0  0  0  0  0  0  0  0  0  1"
      ]
     },
     "execution_count": 8,
     "metadata": {},
     "output_type": "execute_result"
    }
   ],
   "source": [
    "train_labels.head(5)"
   ]
  },
  {
   "cell_type": "markdown",
   "metadata": {},
   "source": [
    "One more thing is we should probably normalize the data.  For now lets just scale it to between 0 and 1 by dividing by the max value (255)"
   ]
  },
  {
   "cell_type": "code",
   "execution_count": 9,
   "metadata": {
    "collapsed": true
   },
   "outputs": [],
   "source": [
    "train_feats = train_feats / 255\n",
    "valid_feats = valid_feats / 255"
   ]
  },
  {
   "cell_type": "markdown",
   "metadata": {},
   "source": [
    "We could think about normalizing instead of just scaling, but let's call it good for now"
   ]
  },
  {
   "cell_type": "markdown",
   "metadata": {},
   "source": [
    "# Loss\n",
    "\n",
    "Since we are classifying each example as one of many different classes (digits), we will be attempting to minimize the categorical crossentropy function described in the lecture notes.  We'll see later how to make custom loss functions, but for now since we are using a common loss, we can just use the string identifier"
   ]
  },
  {
   "cell_type": "code",
   "execution_count": 10,
   "metadata": {
    "collapsed": true
   },
   "outputs": [],
   "source": [
    "loss = 'categorical_crossentropy'"
   ]
  },
  {
   "cell_type": "markdown",
   "metadata": {},
   "source": [
    "# Optimizer\n",
    "We'll use the common optimizer \"Adam\" as described in the lectures.  Again, since it is a very common optimizer, we can just use the string identifier and Keras will initialize the Adam optimizer with default parameters when we compile"
   ]
  },
  {
   "cell_type": "code",
   "execution_count": 11,
   "metadata": {
    "collapsed": true
   },
   "outputs": [],
   "source": [
    "opt = 'adam'"
   ]
  },
  {
   "cell_type": "markdown",
   "metadata": {},
   "source": [
    "# Model (activations)\n",
    "\n",
    "Great!  We're now ready to build, compile, and fit our Keras model.  We'll use the Keras functional API since we are not savages\n",
    "\n",
    "Our model will consist of an input layer, two Dense Layers, and a 10-dimensional output layer for predicting the digits.  For each layer we will consider what sort of activation functions to use.  For the hidden layers we'll use the reLU activation, which is fairly standard default at the moment.  The final activation layer will be a softmax"
   ]
  },
  {
   "cell_type": "code",
   "execution_count": 12,
   "metadata": {
    "collapsed": true
   },
   "outputs": [],
   "source": [
    "inputs = Input(shape=(784,))\n",
    "x = Dense(256, activation='relu')(inputs)\n",
    "x = Dense(256, activation='relu')(x)\n",
    "predictions = Dense(10, activation='softmax')(x)\n",
    "\n",
    "model = Model(inputs=inputs, outputs=predictions)"
   ]
  },
  {
   "cell_type": "markdown",
   "metadata": {},
   "source": [
    "Now we compile the model, telling it which optimizer and loss to use.  \n",
    "We'll also tell it to calculate accuracy at every epoch\n",
    "\n",
    "Then we'll print out a handy keras summary"
   ]
  },
  {
   "cell_type": "code",
   "execution_count": 13,
   "metadata": {},
   "outputs": [
    {
     "name": "stdout",
     "output_type": "stream",
     "text": [
      "_________________________________________________________________\n",
      "Layer (type)                 Output Shape              Param #   \n",
      "=================================================================\n",
      "input_1 (InputLayer)         (None, 784)               0         \n",
      "_________________________________________________________________\n",
      "dense_1 (Dense)              (None, 256)               200960    \n",
      "_________________________________________________________________\n",
      "dense_2 (Dense)              (None, 256)               65792     \n",
      "_________________________________________________________________\n",
      "dense_3 (Dense)              (None, 10)                2570      \n",
      "=================================================================\n",
      "Total params: 269,322\n",
      "Trainable params: 269,322\n",
      "Non-trainable params: 0\n",
      "_________________________________________________________________\n"
     ]
    }
   ],
   "source": [
    "model.compile(optimizer=opt,\n",
    "             loss=loss)\n",
    "\n",
    "model.summary()"
   ]
  },
  {
   "cell_type": "markdown",
   "metadata": {},
   "source": [
    "Now we'll fit the model.  The things we need to give the fit function are: Training data, the number of epochs to run, and the batch size.  \n",
    "\n",
    "**epochs** An epoch is a somewhat arbitrary division of training, but for small closed data sets usually an epoch is an entire run through the training data.  You can specify smaller epochs\n",
    "\n",
    "Optionally we can also give it validation data, and it will calculate metrics on that data set as well\n",
    "\n",
    "If you want Keras to split the training data for you automatically, you can just pass it the parameter validation_split"
   ]
  },
  {
   "cell_type": "code",
   "execution_count": 14,
   "metadata": {},
   "outputs": [
    {
     "name": "stdout",
     "output_type": "stream",
     "text": [
      "Train on 60000 samples, validate on 10000 samples\n",
      "Epoch 1/20\n",
      "60000/60000 [==============================] - 4s 62us/step - loss: 0.2220 - val_loss: 0.1149\n",
      "Epoch 2/20\n",
      "60000/60000 [==============================] - 4s 59us/step - loss: 0.0832 - val_loss: 0.0745\n",
      "Epoch 3/20\n",
      "60000/60000 [==============================] - 3s 57us/step - loss: 0.0544 - val_loss: 0.0844\n",
      "Epoch 4/20\n",
      "60000/60000 [==============================] - 3s 57us/step - loss: 0.0425 - val_loss: 0.0706\n",
      "Epoch 5/20\n",
      "60000/60000 [==============================] - 4s 59us/step - loss: 0.0312 - val_loss: 0.0761\n",
      "Epoch 6/20\n",
      "60000/60000 [==============================] - 4s 61us/step - loss: 0.0249 - val_loss: 0.0789\n",
      "Epoch 7/20\n",
      "60000/60000 [==============================] - 4s 59us/step - loss: 0.0209 - val_loss: 0.0811\n",
      "Epoch 8/20\n",
      "60000/60000 [==============================] - 3s 56us/step - loss: 0.0201 - val_loss: 0.0782\n",
      "Epoch 9/20\n",
      "60000/60000 [==============================] - 3s 58us/step - loss: 0.0156 - val_loss: 0.0846\n",
      "Epoch 10/20\n",
      "60000/60000 [==============================] - 4s 60us/step - loss: 0.0170 - val_loss: 0.0887\n",
      "Epoch 11/20\n",
      "60000/60000 [==============================] - 3s 56us/step - loss: 0.0132 - val_loss: 0.0861\n",
      "Epoch 12/20\n",
      "60000/60000 [==============================] - 3s 55us/step - loss: 0.0104 - val_loss: 0.0919\n",
      "Epoch 13/20\n",
      "60000/60000 [==============================] - 3s 56us/step - loss: 0.0124 - val_loss: 0.0865\n",
      "Epoch 14/20\n",
      "60000/60000 [==============================] - 4s 59us/step - loss: 0.0133 - val_loss: 0.0890\n",
      "Epoch 15/20\n",
      "60000/60000 [==============================] - 3s 57us/step - loss: 0.0094 - val_loss: 0.1005\n",
      "Epoch 16/20\n",
      "60000/60000 [==============================] - 4s 59us/step - loss: 0.0096 - val_loss: 0.0943\n",
      "Epoch 17/20\n",
      "60000/60000 [==============================] - 3s 58us/step - loss: 0.0098 - val_loss: 0.1052\n",
      "Epoch 18/20\n",
      "60000/60000 [==============================] - 4s 60us/step - loss: 0.0096 - val_loss: 0.1022\n",
      "Epoch 19/20\n",
      "60000/60000 [==============================] - 4s 61us/step - loss: 0.0060 - val_loss: 0.0931\n",
      "Epoch 20/20\n",
      "60000/60000 [==============================] - 4s 59us/step - loss: 0.0088 - val_loss: 0.1038\n"
     ]
    },
    {
     "data": {
      "text/plain": [
       "<keras.callbacks.History at 0x1171fe9e8>"
      ]
     },
     "execution_count": 14,
     "metadata": {},
     "output_type": "execute_result"
    }
   ],
   "source": [
    "n_epochs = 20\n",
    "model.fit(train_feats, train_labels,\n",
    "         epochs=n_epochs,\n",
    "         batch_size=64,\n",
    "         validation_data = (valid_feats, valid_labels),\n",
    "         verbose=1)"
   ]
  },
  {
   "cell_type": "markdown",
   "metadata": {},
   "source": [
    "Great! We have some data about the accuracy of the model but just for fun let's make a confusion matrix"
   ]
  },
  {
   "cell_type": "code",
   "execution_count": 15,
   "metadata": {},
   "outputs": [
    {
     "data": {
      "text/plain": [
       "array([[ 969,    0,    2,    0,    0,    3,    3,    1,    2,    0],\n",
       "       [   1, 1113,    2,    4,    0,    0,    4,    3,    8,    0],\n",
       "       [   2,    0, 1015,    2,    1,    0,    2,    4,    5,    1],\n",
       "       [   0,    0,    3,  991,    0,    3,    0,    6,    4,    3],\n",
       "       [   5,    0,    1,    0,  943,    0,    3,    9,    1,   20],\n",
       "       [   2,    0,    0,    6,    0,  873,    3,    3,    2,    3],\n",
       "       [   0,    1,    1,    1,    1,    4,  948,    1,    1,    0],\n",
       "       [   0,    1,    5,    2,    0,    0,    0, 1014,    2,    4],\n",
       "       [   3,    0,    5,    5,    0,    5,    1,    3,  947,    5],\n",
       "       [   2,    2,    1,    2,    3,    2,    0,    2,    0,  995]])"
      ]
     },
     "execution_count": 15,
     "metadata": {},
     "output_type": "execute_result"
    }
   ],
   "source": [
    "valid_pred = np.argmax(model.predict(valid_feats), 1)\n",
    "valid_labels_dense = np.argmax(valid_labels.values, 1)\n",
    "confusion_matrix(valid_labels_dense, valid_pred)"
   ]
  },
  {
   "cell_type": "markdown",
   "metadata": {},
   "source": [
    "# Callbacks\n",
    "\n",
    "Callbacks are extremely useful in Keras.  They allow you to specify any particular action you want done at periodic intervals, typically at the end of each epoch.  Common options include:\n",
    "\n",
    "- Checkpoint the model by saving it periodically\n",
    "- Keep track of the model with the best validation performance\n",
    "- write to a log.  TENSORBOARD\n",
    "- Calculate custom metrics that can't be calculated over batches (like auc)\n",
    "\n",
    "\n",
    "Let's retrain the above model, but using a Tensorboard callback.  We'll also remake the model and add in another metric, 'accuracy', for keras to keep track of and log.\n",
    "\n",
    "To access tensorboard, run \"tensorboard --logdir ..logs/\" replacing ..logs/ with whatever you set your log directory to be below"
   ]
  },
  {
   "cell_type": "code",
   "execution_count": 16,
   "metadata": {
    "collapsed": true
   },
   "outputs": [],
   "source": [
    "# change the name of the callback every time you run it so you don't write multiple training runs to the same log\n",
    "tb_callback = TensorBoard('../logs/mnist_model2')"
   ]
  },
  {
   "cell_type": "code",
   "execution_count": 17,
   "metadata": {
    "scrolled": true
   },
   "outputs": [
    {
     "name": "stdout",
     "output_type": "stream",
     "text": [
      "_________________________________________________________________\n",
      "Layer (type)                 Output Shape              Param #   \n",
      "=================================================================\n",
      "input_1 (InputLayer)         (None, 784)               0         \n",
      "_________________________________________________________________\n",
      "dense_1 (Dense)              (None, 256)               200960    \n",
      "_________________________________________________________________\n",
      "dense_2 (Dense)              (None, 256)               65792     \n",
      "_________________________________________________________________\n",
      "dense_3 (Dense)              (None, 10)                2570      \n",
      "=================================================================\n",
      "Total params: 269,322\n",
      "Trainable params: 269,322\n",
      "Non-trainable params: 0\n",
      "_________________________________________________________________\n",
      "Train on 60000 samples, validate on 10000 samples\n",
      "Epoch 1/30\n",
      "60000/60000 [==============================] - 4s 66us/step - loss: 0.0097 - acc: 0.9969 - val_loss: 0.0997 - val_acc: 0.9823\n",
      "Epoch 2/30\n",
      "60000/60000 [==============================] - 4s 61us/step - loss: 0.0061 - acc: 0.9981 - val_loss: 0.1255 - val_acc: 0.9782\n",
      "Epoch 3/30\n",
      "60000/60000 [==============================] - 4s 61us/step - loss: 0.0098 - acc: 0.9969 - val_loss: 0.1004 - val_acc: 0.9830\n",
      "Epoch 4/30\n",
      "60000/60000 [==============================] - 4s 59us/step - loss: 0.0071 - acc: 0.9978 - val_loss: 0.0972 - val_acc: 0.9833\n",
      "Epoch 5/30\n",
      "60000/60000 [==============================] - 4s 60us/step - loss: 0.0089 - acc: 0.9975 - val_loss: 0.1196 - val_acc: 0.9794\n",
      "Epoch 6/30\n",
      "60000/60000 [==============================] - 4s 60us/step - loss: 0.0076 - acc: 0.9977 - val_loss: 0.1078 - val_acc: 0.9838\n",
      "Epoch 7/30\n",
      "60000/60000 [==============================] - 4s 59us/step - loss: 0.0037 - acc: 0.9990 - val_loss: 0.1153 - val_acc: 0.9817\n",
      "Epoch 8/30\n",
      "60000/60000 [==============================] - 4s 59us/step - loss: 0.0094 - acc: 0.9974 - val_loss: 0.1068 - val_acc: 0.9826\n",
      "Epoch 9/30\n",
      "60000/60000 [==============================] - 4s 59us/step - loss: 0.0079 - acc: 0.9976 - val_loss: 0.1085 - val_acc: 0.9816\n",
      "Epoch 10/30\n",
      "60000/60000 [==============================] - 4s 61us/step - loss: 0.0048 - acc: 0.9988 - val_loss: 0.1249 - val_acc: 0.9787\n",
      "Epoch 11/30\n",
      "60000/60000 [==============================] - 4s 62us/step - loss: 0.0062 - acc: 0.9980 - val_loss: 0.1129 - val_acc: 0.9832\n",
      "Epoch 12/30\n",
      "60000/60000 [==============================] - 4s 60us/step - loss: 0.0047 - acc: 0.9987 - val_loss: 0.1197 - val_acc: 0.9803\n",
      "Epoch 13/30\n",
      "60000/60000 [==============================] - 4s 58us/step - loss: 0.0061 - acc: 0.9982 - val_loss: 0.1317 - val_acc: 0.9804\n",
      "Epoch 14/30\n",
      "60000/60000 [==============================] - 3s 57us/step - loss: 0.0073 - acc: 0.9979 - val_loss: 0.1121 - val_acc: 0.9826\n",
      "Epoch 15/30\n",
      "60000/60000 [==============================] - 3s 56us/step - loss: 0.0039 - acc: 0.9989 - val_loss: 0.1285 - val_acc: 0.9806\n",
      "Epoch 16/30\n",
      "60000/60000 [==============================] - 3s 56us/step - loss: 0.0057 - acc: 0.9983 - val_loss: 0.1259 - val_acc: 0.9810\n",
      "Epoch 17/30\n",
      "60000/60000 [==============================] - 3s 57us/step - loss: 0.0077 - acc: 0.9979 - val_loss: 0.1186 - val_acc: 0.9823\n",
      "Epoch 18/30\n",
      "60000/60000 [==============================] - 4s 61us/step - loss: 0.0058 - acc: 0.9984 - val_loss: 0.1573 - val_acc: 0.9774\n",
      "Epoch 19/30\n",
      "60000/60000 [==============================] - 4s 62us/step - loss: 0.0068 - acc: 0.9982 - val_loss: 0.1462 - val_acc: 0.9804\n",
      "Epoch 20/30\n",
      "60000/60000 [==============================] - 4s 62us/step - loss: 0.0047 - acc: 0.9987 - val_loss: 0.1379 - val_acc: 0.9802\n",
      "Epoch 21/30\n",
      "60000/60000 [==============================] - 4s 61us/step - loss: 0.0040 - acc: 0.9988 - val_loss: 0.1503 - val_acc: 0.9804\n",
      "Epoch 22/30\n",
      "60000/60000 [==============================] - 4s 64us/step - loss: 0.0080 - acc: 0.9981 - val_loss: 0.1308 - val_acc: 0.9835\n",
      "Epoch 23/30\n",
      "60000/60000 [==============================] - 4s 60us/step - loss: 0.0062 - acc: 0.9982 - val_loss: 0.1437 - val_acc: 0.9794\n",
      "Epoch 24/30\n",
      "60000/60000 [==============================] - 4s 60us/step - loss: 0.0062 - acc: 0.9984 - val_loss: 0.1216 - val_acc: 0.9826\n",
      "Epoch 25/30\n",
      "60000/60000 [==============================] - 3s 58us/step - loss: 0.0077 - acc: 0.9981 - val_loss: 0.1340 - val_acc: 0.9816\n",
      "Epoch 26/30\n",
      "60000/60000 [==============================] - 4s 59us/step - loss: 0.0066 - acc: 0.9982 - val_loss: 0.1271 - val_acc: 0.9839\n",
      "Epoch 27/30\n",
      "60000/60000 [==============================] - 4s 63us/step - loss: 0.0029 - acc: 0.9991 - val_loss: 0.1351 - val_acc: 0.9818\n",
      "Epoch 28/30\n",
      "60000/60000 [==============================] - 4s 58us/step - loss: 0.0033 - acc: 0.9993 - val_loss: 0.1373 - val_acc: 0.9810\n",
      "Epoch 29/30\n",
      "60000/60000 [==============================] - 4s 63us/step - loss: 0.0072 - acc: 0.9984 - val_loss: 0.1389 - val_acc: 0.9829\n",
      "Epoch 30/30\n",
      "60000/60000 [==============================] - 4s 61us/step - loss: 0.0066 - acc: 0.9981 - val_loss: 0.1423 - val_acc: 0.9820\n"
     ]
    },
    {
     "data": {
      "text/plain": [
       "<keras.callbacks.History at 0x1171fe940>"
      ]
     },
     "execution_count": 17,
     "metadata": {},
     "output_type": "execute_result"
    }
   ],
   "source": [
    "model.compile(optimizer=opt,\n",
    "             loss=loss, \n",
    "             metrics=['accuracy'])\n",
    "\n",
    "model.summary()\n",
    "\n",
    "model.fit(train_feats, train_labels,\n",
    "         epochs=30,\n",
    "         batch_size=64,\n",
    "         validation_data = (valid_feats, valid_labels),\n",
    "         callbacks=[tb_callback])"
   ]
  },
  {
   "cell_type": "markdown",
   "metadata": {},
   "source": [
    "# Regularization\n",
    "\n",
    "Regularization is a huge part of deep learning, and we'll spend A LOT more time talking about it.  You should see that the model we have trained is overfit to the training set. But for now with what we've learned so far, it may be useful to try some regularization.\n",
    "\n",
    "- **Limiting model capacity.** Models with fewer parameters are less able to overfit.  Limit model capacity, usually by decreasing the number of layers or the number of nodes per layer.\n",
    "- **Early stopping.** The longer you train, the more likely the model will memorize noise between the training set and the labels.  Monitor validation metrics, and if they start getting bad while the training metrics continue to improve, you may want to stop training there.  In Keras, often \"early stopping\" is handled by callbacks which can either save models periodically (so you can get the best ones from the past if the model starts overfitting), or by dropping the learning rate progressively to zero as the validation metrics get worse and worse.\n",
    "- **L1, L2 regularization** Add a penalty for high weights to the loss.  In practice this is less common than it is in simple linear/logistic regression, but it is valid and still used.\n",
    "\n",
    "\n",
    "In deep learning practice, much of your time will be spent experimenting with regularization strategies"
   ]
  },
  {
   "cell_type": "code",
   "execution_count": 18,
   "metadata": {
    "scrolled": true
   },
   "outputs": [
    {
     "name": "stdout",
     "output_type": "stream",
     "text": [
      "_________________________________________________________________\n",
      "Layer (type)                 Output Shape              Param #   \n",
      "=================================================================\n",
      "input_2 (InputLayer)         (None, 784)               0         \n",
      "_________________________________________________________________\n",
      "dense_4 (Dense)              (None, 64)                50240     \n",
      "_________________________________________________________________\n",
      "dense_5 (Dense)              (None, 64)                4160      \n",
      "_________________________________________________________________\n",
      "dense_6 (Dense)              (None, 10)                650       \n",
      "=================================================================\n",
      "Total params: 55,050\n",
      "Trainable params: 55,050\n",
      "Non-trainable params: 0\n",
      "_________________________________________________________________\n",
      "Train on 60000 samples, validate on 10000 samples\n",
      "Epoch 1/20\n",
      "60000/60000 [==============================] - 2s 37us/step - loss: 0.4579 - acc: 0.9076 - val_loss: 0.2847 - val_acc: 0.9514\n",
      "Epoch 2/20\n",
      "60000/60000 [==============================] - 2s 34us/step - loss: 0.2781 - acc: 0.9521 - val_loss: 0.2428 - val_acc: 0.9608\n",
      "Epoch 3/20\n",
      "60000/60000 [==============================] - 2s 33us/step - loss: 0.2342 - acc: 0.9622 - val_loss: 0.2239 - val_acc: 0.9638\n",
      "Epoch 4/20\n",
      "60000/60000 [==============================] - 2s 32us/step - loss: 0.2111 - acc: 0.9672 - val_loss: 0.1987 - val_acc: 0.9678\n",
      "Epoch 5/20\n",
      "60000/60000 [==============================] - 2s 31us/step - loss: 0.1947 - acc: 0.9696 - val_loss: 0.1940 - val_acc: 0.9681\n",
      "Epoch 6/20\n",
      "60000/60000 [==============================] - 2s 30us/step - loss: 0.1799 - acc: 0.9730 - val_loss: 0.1858 - val_acc: 0.9682\n",
      "Epoch 7/20\n",
      "60000/60000 [==============================] - 2s 30us/step - loss: 0.1727 - acc: 0.9732 - val_loss: 0.1755 - val_acc: 0.9723\n",
      "Epoch 8/20\n",
      "60000/60000 [==============================] - 2s 31us/step - loss: 0.1658 - acc: 0.9745 - val_loss: 0.1714 - val_acc: 0.9722\n",
      "Epoch 9/20\n",
      "60000/60000 [==============================] - 2s 31us/step - loss: 0.1608 - acc: 0.9756 - val_loss: 0.1692 - val_acc: 0.9701\n",
      "Epoch 10/20\n",
      "60000/60000 [==============================] - 2s 33us/step - loss: 0.1552 - acc: 0.9762 - val_loss: 0.1625 - val_acc: 0.9725\n",
      "Epoch 11/20\n",
      "60000/60000 [==============================] - 2s 34us/step - loss: 0.1502 - acc: 0.9774 - val_loss: 0.1680 - val_acc: 0.9681\n",
      "Epoch 12/20\n",
      "60000/60000 [==============================] - 2s 32us/step - loss: 0.1465 - acc: 0.9778 - val_loss: 0.1552 - val_acc: 0.9747\n",
      "Epoch 13/20\n",
      "60000/60000 [==============================] - 2s 31us/step - loss: 0.1452 - acc: 0.9784 - val_loss: 0.1548 - val_acc: 0.9733\n",
      "Epoch 14/20\n",
      "60000/60000 [==============================] - 2s 31us/step - loss: 0.1417 - acc: 0.9781 - val_loss: 0.1725 - val_acc: 0.9669\n",
      "Epoch 15/20\n",
      "60000/60000 [==============================] - 2s 31us/step - loss: 0.1384 - acc: 0.9787 - val_loss: 0.1480 - val_acc: 0.9758\n",
      "Epoch 16/20\n",
      "60000/60000 [==============================] - 2s 33us/step - loss: 0.1369 - acc: 0.9794 - val_loss: 0.1538 - val_acc: 0.9748\n",
      "Epoch 17/20\n",
      "60000/60000 [==============================] - 2s 32us/step - loss: 0.1342 - acc: 0.9808 - val_loss: 0.1488 - val_acc: 0.9763\n",
      "Epoch 18/20\n",
      "60000/60000 [==============================] - 2s 31us/step - loss: 0.1326 - acc: 0.9801 - val_loss: 0.1382 - val_acc: 0.9775\n",
      "Epoch 19/20\n",
      "60000/60000 [==============================] - 2s 32us/step - loss: 0.1310 - acc: 0.9802 - val_loss: 0.1380 - val_acc: 0.9776\n",
      "Epoch 20/20\n",
      "60000/60000 [==============================] - 2s 33us/step - loss: 0.1284 - acc: 0.9806 - val_loss: 0.1422 - val_acc: 0.9749\n"
     ]
    },
    {
     "data": {
      "text/plain": [
       "<keras.callbacks.History at 0x1a42a49e48>"
      ]
     },
     "execution_count": 18,
     "metadata": {},
     "output_type": "execute_result"
    }
   ],
   "source": [
    "tb_callback = TensorBoard('../logs/mnist_model3')\n",
    "\n",
    "#initialize an l2 regularization\n",
    "l2_reg = regularizers.l2(.001)\n",
    "\n",
    "inputs = Input(shape=(784,))\n",
    "# go down to layer size 64.  \n",
    "# Note what happens to the number of model parameters in the summary\n",
    "\n",
    "x = Dense(64, activation='relu', kernel_regularizer=l2_reg)(inputs)\n",
    "x = Dense(64, activation='relu', kernel_regularizer=l2_reg)(x)\n",
    "predictions = Dense(10, activation='softmax')(x)\n",
    "\n",
    "model = Model(inputs=inputs, outputs=predictions)\n",
    "\n",
    "model.compile(optimizer=opt,\n",
    "             loss=loss, \n",
    "             metrics=['accuracy'])\n",
    "\n",
    "model.summary()\n",
    "\n",
    "# go down to 20 epochs\n",
    "model.fit(train_feats, train_labels,\n",
    "         epochs=20,\n",
    "         batch_size=64,\n",
    "         validation_data = (valid_feats, valid_labels),\n",
    "         callbacks=[tb_callback])"
   ]
  },
  {
   "cell_type": "markdown",
   "metadata": {},
   "source": [
    "Examine the loss and validation loss above or in Tensorboard. Is the model less overfit?  Was there enough regularization?  Too much?  Just right?"
   ]
  }
 ],
 "metadata": {
  "kernelspec": {
   "display_name": "Python 3",
   "language": "python",
   "name": "python3"
  },
  "language_info": {
   "codemirror_mode": {
    "name": "ipython",
    "version": 3
   },
   "file_extension": ".py",
   "mimetype": "text/x-python",
   "name": "python",
   "nbconvert_exporter": "python",
   "pygments_lexer": "ipython3",
   "version": "3.6.4"
  }
 },
 "nbformat": 4,
 "nbformat_minor": 2
}
